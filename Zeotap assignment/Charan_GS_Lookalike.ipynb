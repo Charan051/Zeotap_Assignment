{
 "cells": [
  {
   "cell_type": "code",
   "execution_count": null,
   "metadata": {},
   "outputs": [
    {
     "name": "stdout",
     "output_type": "stream",
     "text": [
      "Index(['TransactionID', 'CustomerID', 'ProductID', 'TransactionDate',\n",
      "       'Quantity', 'TotalValue', 'Price_x', 'CustomerName', 'Region',\n",
      "       'SignupDate', 'ProductName', 'Category', 'Price_y'],\n",
      "      dtype='object')\n",
      "Lookalike recommendations for the first 20 customers have been saved to Charan_GS_Lookalike.csv.\n"
     ]
    }
   ],
   "source": [
    "import pandas as pd\n",
    "from sklearn.metrics.pairwise import cosine_similarity\n",
    "from sklearn.preprocessing import StandardScaler\n",
    "\n",
    "\n",
    "customers = pd.read_csv(\"Customers.csv\") \n",
    "products = pd.read_csv(\"Products.csv\")\n",
    "transactions = pd.read_csv(\"Transactions.csv\") \n",
    "\n",
    "# Merge datasets \n",
    "merged_data = transactions.merge(customers, on=\"CustomerID\").merge(products, on=\"ProductID\")\n",
    "\n",
    "customer_features = merged_data.groupby('CustomerID').agg({\n",
    "    'TotalValue': 'sum',  \n",
    "    'Quantity': 'sum',   \n",
    "    'Price_y': 'mean'      \n",
    "}).reset_index()\n",
    "\n",
    "# Normalize features using StandardScaler\n",
    "scaler = StandardScaler()\n",
    "scaled_features = scaler.fit_transform(customer_features[['TotalValue', 'Quantity', 'Price_y']])\n",
    "\n",
    "# Compute cosine similarity scores between customers\n",
    "similarity_matrix = cosine_similarity(scaled_features)\n",
    "\n",
    "# Create a dictionary to store the top 3 lookalikes for each customer\n",
    "lookalikes = {}\n",
    "for i, customer_id in enumerate(customer_features['CustomerID']):\n",
    "    similar_indices = similarity_matrix[i].argsort()[-4:-1][::-1]  \n",
    "    similar_customers = [(customer_features['CustomerID'][j], similarity_matrix[i][j]) for j in similar_indices]\n",
    "    lookalikes[customer_id] = similar_customers\n",
    "\n",
    "# Save the lookalike recommendations for the first 20 customers\n",
    "lookalike_results = {k: lookalikes[k] for k in customer_features['CustomerID'][:20]}\n",
    "lookalike_df = pd.DataFrame.from_dict(\n",
    "    lookalike_results, \n",
    "    orient='index', \n",
    "    columns=['Lookalike1', 'Lookalike2', 'Lookalike3']\n",
    ")\n",
    "\n",
    "lookalike_df.to_csv(\"Charan_GS_Lookalike.csv\", index=True)\n",
    "\n",
    "print(\"Lookalike recommendations for the first 20 customers have been saved to Charan_GS_Lookalike.csv.\")\n"
   ]
  }
 ],
 "metadata": {
  "kernelspec": {
   "display_name": "base",
   "language": "python",
   "name": "python3"
  },
  "language_info": {
   "codemirror_mode": {
    "name": "ipython",
    "version": 3
   },
   "file_extension": ".py",
   "mimetype": "text/x-python",
   "name": "python",
   "nbconvert_exporter": "python",
   "pygments_lexer": "ipython3",
   "version": "3.11.7"
  }
 },
 "nbformat": 4,
 "nbformat_minor": 2
}
